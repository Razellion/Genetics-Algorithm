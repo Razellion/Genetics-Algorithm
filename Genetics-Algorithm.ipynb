{
 "cells": [
  {
   "cell_type": "code",
   "execution_count": 3,
   "metadata": {},
   "outputs": [],
   "source": [
    "import numpy as np\n",
    "import random"
   ]
  },
  {
   "cell_type": "code",
   "execution_count": 4,
   "metadata": {},
   "outputs": [],
   "source": [
    "def f(x1,x2):\n",
    "    left =  ((4-(2.1*(x1**2)))+((x1**4)/3)*(x1**2))\n",
    "    middle = x1*x2 \n",
    "    right = (-4+((4*(x2**2))*(x2**2)))\n",
    "    return left + middle + right\n",
    "\n",
    "def genToPhen(genotype, rmax, rmin):\n",
    "    func1 = (rmax-rmin)/np.sum([2**-i for i in range(0,len(genotype+1))])\n",
    "    func2 = np.sum(genotype[i-1]*(2**-i) for i in range(0,len(genotype+1)))\n",
    "    return rmin + func1 * func2\n",
    "\n",
    "def fitness(x1,x2):\n",
    "    h = f(x1,x2)\n",
    "    return (-h)\n",
    "\n",
    "def parent_selection(population):\n",
    "    battle_royale = random.choices(population,k=10)\n",
    "    sorted(battle_royale, key= lambda x: x['fit'], reverse = True)\n",
    "    return battle_royale[:4]\n",
    "    \n",
    "def crossover(parents):\n",
    "    prob = np.random.randint(1,10)\n",
    "    list_of_child = []\n",
    "    if prob <= 7:\n",
    "        p = np.random.randint(1,11)\n",
    "        child1 = dict()\n",
    "        child2 = dict()\n",
    "        child3 = dict()\n",
    "        child4 = dict()\n",
    "\n",
    "        child1['genotype'] = np.append(parents[0]['genotype'][:p],\n",
    "                           parents[1]['genotype'][p:])\n",
    "        \n",
    "        \n",
    "        child2['genotype'] = np.append(parents[1]['genotype'][:p],\n",
    "                           parents[2]['genotype'][p:])\n",
    "        \n",
    "        \n",
    "        child3['genotype'] = np.append(parents[2]['genotype'][:p],\n",
    "                           parents[3]['genotype'][p:])\n",
    "        \n",
    "    \n",
    "        child4['genotype'] = np.append(parents[3]['genotype'][:p],\n",
    "                           parents[0]['genotype'][p:])\n",
    "\n",
    "        \n",
    "        \n",
    "\n",
    "        list_of_child.append(child1.copy())\n",
    "        list_of_child.append(child2.copy())\n",
    "        list_of_child.append(child3.copy())\n",
    "        list_of_child.append(child4.copy())\n",
    "        \n",
    "    return list_of_child\n",
    "\n",
    "\n",
    "def mutation(list_of_child):\n",
    "    for child in list_of_child:\n",
    "        fengshui = np.random.randint(0,100)\n",
    "        if fengshui == 88:\n",
    "            idx = np.random.randint(0,11)\n",
    "            child['genotype'][idx] = int(not child['genotype'][idx])\n",
    "    \n",
    "    return list_of_child\n",
    "\n",
    "def recalculate_fit(child):\n",
    "    indvi = dict()\n",
    "    list_of_newborn = []\n",
    "    for gen in child:\n",
    "        indvi['genotype'] = gen['genotype']\n",
    "        x1 = gen['genotype'][ : len(gen['genotype'])//2]\n",
    "        x2 = gen['genotype'][len(gen['genotype'])//2 : ]\n",
    "        phen1 = genToPhen(x1,3,-3)\n",
    "        phen2 = genToPhen(x2,2,-2)\n",
    "        indvi['phen1'] = phen1\n",
    "        indvi['phen2'] = phen2\n",
    "        indvi['fit'] = fitness(phen1,phen2)\n",
    "        indvi['solv'] = f(phen1,phen2)\n",
    "        list_of_newborn.append(indvi.copy())\n",
    "    return list_of_newborn\n",
    "\n",
    "def survivor_selection(population, child):\n",
    "    sorted(population, key = lambda x: x['fit'])\n",
    "    sorted(child, key = lambda x: x['fit'], reverse = True)\n",
    "    i=0\n",
    "    while i<len(child):\n",
    "        population[i] = child[i]\n",
    "        i+=1\n",
    "        \n",
    "def init(generate_pop, population):\n",
    "    for gen in generate_pop:\n",
    "        indv = dict()\n",
    "        indv['genotype'] = gen\n",
    "        x1 = gen[ : len(gen)//2]\n",
    "        x2 = gen[len(gen)//2 : ]\n",
    "        phen1 = genToPhen(x1,3,-3)\n",
    "        phen2 = genToPhen(x2,2,-2)\n",
    "        indv['phen1'] = phen1\n",
    "        indv['phen2'] = phen2\n",
    "        indv['fit'] = fitness(phen1,phen2)\n",
    "        indv['solv'] = f(genToPhen(x1,3,-3),genToPhen(x2,2,-2))\n",
    "        population.append(indv.copy())"
   ]
  },
  {
   "cell_type": "code",
   "execution_count": 25,
   "metadata": {
    "scrolled": false
   },
   "outputs": [
    {
     "name": "stderr",
     "output_type": "stream",
     "text": [
      "/home/r/anaconda3/lib/python3.7/site-packages/ipykernel_launcher.py:9: DeprecationWarning: Calling np.sum(generator) is deprecated, and in the future will give a different result. Use np.sum(np.fromiter(generator)) or the python sum builtin instead.\n",
      "  if __name__ == '__main__':\n"
     ]
    }
   ],
   "source": [
    "generate_pop = np.random.randint(2,size=(25,12))\n",
    "population = []\n",
    "init(generate_pop,population)\n",
    "generation = 1\n",
    "while generation < 100:\n",
    "    parent = parent_selection(population)\n",
    "    offspring = crossover(parent)\n",
    "    child = mutation(offspring)\n",
    "    newborn = recalculate_fit(child)\n",
    "    survivor_selection(population, newborn)\n",
    "    generation += 1"
   ]
  },
  {
   "cell_type": "code",
   "execution_count": 26,
   "metadata": {
    "scrolled": true
   },
   "outputs": [
    {
     "data": {
      "text/plain": [
       "{'genotype': array([1, 0, 1, 1, 0, 0, 1, 1, 1, 1, 1, 0]),\n",
       " 'phen1': -0.9047619047619051,\n",
       " 'phen2': -0.031746031746031855,\n",
       " 'fit': 1.5074753272591437,\n",
       " 'solv': -1.5074753272591437}"
      ]
     },
     "execution_count": 26,
     "metadata": {},
     "output_type": "execute_result"
    }
   ],
   "source": [
    "sorted(population, key = lambda x: x['fit'], reverse = True)[0]"
   ]
  }
 ],
 "metadata": {
  "kernelspec": {
   "display_name": "Python 3",
   "language": "python",
   "name": "python3"
  },
  "language_info": {
   "codemirror_mode": {
    "name": "ipython",
    "version": 3
   },
   "file_extension": ".py",
   "mimetype": "text/x-python",
   "name": "python",
   "nbconvert_exporter": "python",
   "pygments_lexer": "ipython3",
   "version": "3.7.3"
  }
 },
 "nbformat": 4,
 "nbformat_minor": 2
}
